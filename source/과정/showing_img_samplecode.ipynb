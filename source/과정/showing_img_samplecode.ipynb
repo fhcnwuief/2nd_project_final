{
 "cells": [
  {
   "cell_type": "code",
   "execution_count": 3,
   "metadata": {},
   "outputs": [],
   "source": [
    "# opencv_imshow.py\n",
    "\n",
    "import cv2\n",
    "import numpy as np\n",
    "\n",
    "image = cv2.imread(\"images/26120002.jpg\",cv2.IMREAD_UNCHANGED)\n",
    "cv2.imshow(\"2612002\",image)\n",
    "cv2.waitKey(0)\n",
    "cv2.destroyAllWindows()"
   ]
  },
  {
   "cell_type": "code",
   "execution_count": null,
   "metadata": {},
   "outputs": [],
   "source": [
    "# openCV 안쓰고 streamlit에서 사진 띄우기\n",
    "import streamlit as st\n",
    "from PIL import Image\n",
    "import os\n",
    "# 이미지 불러오는 함수 \n",
    "def load_image(image_file):\n",
    "    img = Image.open(image_file)\n",
    "    return img\n",
    "\n",
    "\n",
    "img = load_image(image_file)\n",
    "# image_file은 이미지 파일이 들어있는 변수\n",
    "st.image(img,width=200)\n",
    "\n",
    "# ---------------------------------------------------------------------\n",
    "\n",
    "# 또는 이렇게 \n",
    "img = Image.open(# 파일 경로 )\n",
    "st.image(img)                "
   ]
  },
  {
   "cell_type": "markdown",
   "metadata": {},
   "source": []
  }
 ],
 "metadata": {
  "kernelspec": {
   "display_name": "base",
   "language": "python",
   "name": "python3"
  },
  "language_info": {
   "codemirror_mode": {
    "name": "ipython",
    "version": 3
   },
   "file_extension": ".py",
   "mimetype": "text/x-python",
   "name": "python",
   "nbconvert_exporter": "python",
   "pygments_lexer": "ipython3",
   "version": "3.10.9"
  },
  "orig_nbformat": 4
 },
 "nbformat": 4,
 "nbformat_minor": 2
}
