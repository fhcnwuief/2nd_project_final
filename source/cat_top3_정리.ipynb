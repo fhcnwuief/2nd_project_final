{
 "cells": [
  {
   "cell_type": "code",
   "execution_count": 4,
   "metadata": {},
   "outputs": [],
   "source": [
    "import pandas as pd\n",
    "import warnings\n",
    "warnings.filterwarnings(action='ignore')"
   ]
  },
  {
   "cell_type": "code",
   "execution_count": 5,
   "metadata": {},
   "outputs": [
    {
     "data": {
      "text/html": [
       "<div>\n",
       "<style scoped>\n",
       "    .dataframe tbody tr th:only-of-type {\n",
       "        vertical-align: middle;\n",
       "    }\n",
       "\n",
       "    .dataframe tbody tr th {\n",
       "        vertical-align: top;\n",
       "    }\n",
       "\n",
       "    .dataframe thead th {\n",
       "        text-align: right;\n",
       "    }\n",
       "</style>\n",
       "<table border=\"1\" class=\"dataframe\">\n",
       "  <thead>\n",
       "    <tr style=\"text-align: right;\">\n",
       "      <th></th>\n",
       "      <th>pk</th>\n",
       "      <th>name</th>\n",
       "    </tr>\n",
       "  </thead>\n",
       "  <tbody>\n",
       "    <tr>\n",
       "      <th>0</th>\n",
       "      <td>1</td>\n",
       "      <td>&amp;OtherStories</td>\n",
       "    </tr>\n",
       "    <tr>\n",
       "      <th>1</th>\n",
       "      <td>2</td>\n",
       "      <td>06130ZéroSixCent-Trente</td>\n",
       "    </tr>\n",
       "    <tr>\n",
       "      <th>2</th>\n",
       "      <td>3</td>\n",
       "      <td>10CorsoComo</td>\n",
       "    </tr>\n",
       "  </tbody>\n",
       "</table>\n",
       "</div>"
      ],
      "text/plain": [
       "   pk                     name\n",
       "0   1            &OtherStories\n",
       "1   2  06130ZéroSixCent-Trente\n",
       "2   3              10CorsoComo"
      ]
     },
     "execution_count": 5,
     "metadata": {},
     "output_type": "execute_result"
    }
   ],
   "source": [
    "# 브랜드 pk값과 브랜드 명이 들어있는 csv파일 읽어오기\n",
    "brand = pd.read_csv('../google_shared_files/과정/brand.csv')\n",
    "brand = brand[['pk', 'name']]\n",
    "brand.head(3)"
   ]
  },
  {
   "cell_type": "code",
   "execution_count": 6,
   "metadata": {},
   "outputs": [],
   "source": [
    "# ['pk', 'name', thumbnail, brand(name), price] 형식으로 추천 향수 정보 꺼내오기\n",
    "cat1_r = pd.read_csv('../data/category1_result.csv', index_col =0)\n",
    "cat8_r = pd.read_csv('../data/category8_result.csv', index_col =0)\n",
    "cat10_r = pd.read_csv('../data/category10_result.csv', index_col =0)\n",
    "# index 다시 설정 (0~2로)\n",
    "cat1_r = cat1_r.reset_index(drop=True)\n",
    "cat8_r = cat8_r.reset_index(drop=True)\n",
    "cat10_r = cat10_r.reset_index(drop=True)\n",
    "# 브랜드 pk값 --> 브랜드 이름 변경하는 함수\n",
    "def brand_convert(df):\n",
    "    for i in range(0,3):\n",
    "        for j in range(len(brand)):\n",
    "            if df['brand'][i] ==  brand['pk'][j]:\n",
    "                df['brand'][i] = brand['name'][j]\n",
    "    "
   ]
  },
  {
   "cell_type": "code",
   "execution_count": 7,
   "metadata": {},
   "outputs": [],
   "source": [
    "# 함수를 이용하여 추천 향수 정보가 있는 데이터 프레임 수정\n",
    "for df in [cat1_r, cat8_r, cat10_r]:\n",
    "    brand_convert(df)\n",
    "# 필요한 정보를 가진 열만 남기고 삭제\n",
    "cat1_r = cat1_r[['pk', 'name', 'thumbnail', 'brand', 'price']]\n",
    "cat8_r = cat8_r[['pk', 'name', 'thumbnail', 'brand', 'price']]\n",
    "cat10_r = cat10_r[['pk', 'name', 'thumbnail', 'brand', 'price']]"
   ]
  },
  {
   "cell_type": "code",
   "execution_count": 8,
   "metadata": {},
   "outputs": [],
   "source": [
    "# 수정한 데이터 프레임 csv파일로 저장\n",
    "cat1_r.to_csv('../data/cat1_result.csv')\n",
    "cat8_r.to_csv('../data/cat8_result.csv')\n",
    "cat10_r.to_csv('../data/cat10_result.csv')"
   ]
  },
  {
   "cell_type": "code",
   "execution_count": null,
   "metadata": {},
   "outputs": [],
   "source": []
  }
 ],
 "metadata": {
  "kernelspec": {
   "display_name": "base",
   "language": "python",
   "name": "python3"
  },
  "language_info": {
   "codemirror_mode": {
    "name": "ipython",
    "version": 3
   },
   "file_extension": ".py",
   "mimetype": "text/x-python",
   "name": "python",
   "nbconvert_exporter": "python",
   "pygments_lexer": "ipython3",
   "version": "3.10.9"
  },
  "orig_nbformat": 4
 },
 "nbformat": 4,
 "nbformat_minor": 2
}
