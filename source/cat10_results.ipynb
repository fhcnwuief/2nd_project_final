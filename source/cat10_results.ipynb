{
 "cells": [
  {
   "cell_type": "markdown",
   "metadata": {},
   "source": [
    "## category 10 : musk (top, base)"
   ]
  },
  {
   "cell_type": "markdown",
   "metadata": {},
   "source": [
    "#### 순서\n",
    "1. 향수 정보 열기\n",
    "2. <카테고리  3> : top_notes에 'rose'를 포함하는 향수만 필터링\n",
    "3. top_notes 리스트에의 향들 : 카테고리 3에 포함되는 향 갯수, 다음 가까운 카테고리에 포함되는 향 갯수, 그 다음...\n",
    "4. 각 갯수 * 해당 가중치(1, 0.7, 0.4) ==> 'score'\n",
    "5. score에 따라서 정렬 후 top 3 향수 추출\n",
    "6. 저장\n"
   ]
  },
  {
   "cell_type": "code",
   "execution_count": 23,
   "metadata": {},
   "outputs": [],
   "source": [
    "import pandas as pd\n",
    "from ast import literal_eval\n",
    "\n",
    "import warnings\n",
    "warnings.filterwarnings(\"ignore\")"
   ]
  },
  {
   "cell_type": "markdown",
   "metadata": {},
   "source": [
    "### 데이터 불러오기"
   ]
  },
  {
   "cell_type": "code",
   "execution_count": 30,
   "metadata": {},
   "outputs": [
    {
     "data": {
      "text/html": [
       "<div>\n",
       "<style scoped>\n",
       "    .dataframe tbody tr th:only-of-type {\n",
       "        vertical-align: middle;\n",
       "    }\n",
       "\n",
       "    .dataframe tbody tr th {\n",
       "        vertical-align: top;\n",
       "    }\n",
       "\n",
       "    .dataframe thead th {\n",
       "        text-align: right;\n",
       "    }\n",
       "</style>\n",
       "<table border=\"1\" class=\"dataframe\">\n",
       "  <thead>\n",
       "    <tr style=\"text-align: right;\">\n",
       "      <th></th>\n",
       "      <th>pk</th>\n",
       "      <th>name</th>\n",
       "    </tr>\n",
       "  </thead>\n",
       "  <tbody>\n",
       "    <tr>\n",
       "      <th>623</th>\n",
       "      <td>624</td>\n",
       "      <td>musk</td>\n",
       "    </tr>\n",
       "  </tbody>\n",
       "</table>\n",
       "</div>"
      ],
      "text/plain": [
       "      pk  name\n",
       "623  624  musk"
      ]
     },
     "execution_count": 30,
     "metadata": {},
     "output_type": "execute_result"
    }
   ],
   "source": [
    "# 향수 데이터를 필요한 칼럼만 남겨 perfume_df에 불러오기\n",
    "perfume_df = pd.read_csv('../data/1st treatment_perfume.csv', index_col = 0)\n",
    "perfume_df = perfume_df[['pk', 'name', 'top_notes', 'heart_notes', 'base_notes']]\n",
    "\n",
    "# perfume_df의 note들 정보가 리스트가 아닌 string으로 저장되어 있으므로 리스트로 변환\n",
    "note_types = ['top_notes', 'heart_notes', 'base_notes']\n",
    "for n_type in note_types:\n",
    "    perfume_df[n_type] = perfume_df[n_type].apply(literal_eval)\n",
    "\n",
    "# 각 카테고리별 향들의 정보가 들어있는 cate_note.csv불러오기\n",
    "cat_notes = pd.read_csv('../data/cate_note.csv', index_col = 0)\n",
    "\n",
    "# note에 대한 정보 (이름과  pk)을 가진 데이터 프레임\n",
    "note8 = pd.read_csv('../data/concat_notes.csv')\n",
    "note8 = note8[['pk', 'name']]\n",
    "note8[note8['name'] == 'musk'] # musk pk값 확인"
   ]
  },
  {
   "cell_type": "markdown",
   "metadata": {},
   "source": [
    "***"
   ]
  },
  {
   "cell_type": "markdown",
   "metadata": {},
   "source": [
    "### 타겟 향이 top & base에 포함되는 향수 추출"
   ]
  },
  {
   "cell_type": "markdown",
   "metadata": {},
   "source": [
    "#### 1. top 필터링"
   ]
  },
  {
   "cell_type": "code",
   "execution_count": 31,
   "metadata": {},
   "outputs": [
    {
     "name": "stdout",
     "output_type": "stream",
     "text": [
      "top_notes 필터 후 :  1055\n",
      "필터링된 데이터 프레임 크기 :  1055\n"
     ]
    }
   ],
   "source": [
    "# top_note에 타겟 향 (624)을 포함하는 향수 pk값 리스트로 반환\n",
    "top_624 = []\n",
    "\n",
    "for i in range(len(perfume_df)):\n",
    "    for j in range(len(perfume_df['top_notes'][i])):\n",
    "        if perfume_df['top_notes'][i][j] == 624:\n",
    "            top_624.append(perfume_df['pk'][i])\n",
    "print('top_notes 필터 후 : ', len(top_624))\n",
    "\n",
    "# 반환된 리스트 값을 pk로 가지는 향수 정보를 보여주는 데이터 프레임\n",
    "test = []\n",
    "for i in top_624:\n",
    "    test.append(perfume_df[perfume_df['pk'] == i])\n",
    "\n",
    "df = test[0]\n",
    "for i in range(1,len(test)):\n",
    "    df = df.append(test[i])\n",
    "df =df.reset_index(drop = True)\n",
    "print('필터링된 데이터 프레임 크기 : ',len(df))"
   ]
  },
  {
   "cell_type": "markdown",
   "metadata": {},
   "source": [
    "#### 2. base 필터"
   ]
  },
  {
   "cell_type": "code",
   "execution_count": 32,
   "metadata": {},
   "outputs": [
    {
     "name": "stdout",
     "output_type": "stream",
     "text": [
      "base_notes 필터 후 :  5\n",
      "필터링된 데이터 프레임 크기 :  5\n"
     ]
    }
   ],
   "source": [
    "# 필터링된 데이터 프레임에서 base_notes에 타겟 향(624)을 가지는 향수의 pk값 리스트에 반환\n",
    "base_624 = []\n",
    "\n",
    "for i in range(len(df)):\n",
    "    for j in range(len(df['base_notes'][i])):\n",
    "        if df['base_notes'][i][j] == 624:\n",
    "            base_624.append(df['pk'][i])\n",
    "print('base_notes 필터 후 : ' ,len(base_624))\n",
    "\n",
    "# 반환된 리스트의 값을 pk값으로 가지는 향수의 정보 데이터프레임으로 출력\n",
    "test = []\n",
    "for i in base_624:\n",
    "    test.append(perfume_df[perfume_df['pk'] == i])\n",
    "\n",
    "df_base = test[0]\n",
    "for i in range(1,len(test)):\n",
    "    df_base = df_base.append(test[i])\n",
    "df_final = df_base.reset_index(drop = True)\n",
    "print('필터링된 데이터 프레임 크기 : ', len(df_base))"
   ]
  },
  {
   "cell_type": "markdown",
   "metadata": {},
   "source": [
    "***"
   ]
  },
  {
   "cell_type": "markdown",
   "metadata": {},
   "source": [
    "#### 필터링이 된 df(df_final)에서 점수 계산 후 탑3개\n",
    "* cat10 = 1, cat6 = 0.7, cat9 = 0.3 점"
   ]
  },
  {
   "cell_type": "code",
   "execution_count": 33,
   "metadata": {},
   "outputs": [],
   "source": [
    "cat10 = cat_notes['note_idx'].apply(literal_eval)[10] # 10번 카테고리에 해당하는 note들의 pk값 리스트\n",
    "cat6 = cat_notes['note_idx'].apply(literal_eval)[6] # 6번 카테고리에 해당하는 note들의 pk값 리스트\n",
    "cat9 = cat_notes['note_idx'].apply(literal_eval)[9] # 9번 카테고리에 해당하는 note들의 pk값 리스트"
   ]
  },
  {
   "cell_type": "code",
   "execution_count": 38,
   "metadata": {},
   "outputs": [],
   "source": [
    "# 타겟 카테고리에 해당하는 향을 카테고리에 따라 a 또는 b 또는 c로 변경하는 함수\n",
    "def convert_note(target_type):\n",
    "    for i in range(len(df_final)):\n",
    "        for j in range(len(df_final[target_type][i])):\n",
    "            if df_final[target_type][i][j] in cat10:\n",
    "                df_final[target_type][i][j] = 'a'\n",
    "            elif df_final[target_type][i][j] in cat6:\n",
    "                df_final[target_type][i][j] = 'b'\n",
    "            elif df_final[target_type][i][j] in cat9:\n",
    "                df_final[target_type][i][j] = 'c'\n",
    "            else:\n",
    "                pass"
   ]
  },
  {
   "cell_type": "code",
   "execution_count": 39,
   "metadata": {},
   "outputs": [
    {
     "data": {
      "text/html": [
       "<div>\n",
       "<style scoped>\n",
       "    .dataframe tbody tr th:only-of-type {\n",
       "        vertical-align: middle;\n",
       "    }\n",
       "\n",
       "    .dataframe tbody tr th {\n",
       "        vertical-align: top;\n",
       "    }\n",
       "\n",
       "    .dataframe thead th {\n",
       "        text-align: right;\n",
       "    }\n",
       "</style>\n",
       "<table border=\"1\" class=\"dataframe\">\n",
       "  <thead>\n",
       "    <tr style=\"text-align: right;\">\n",
       "      <th></th>\n",
       "      <th>pk</th>\n",
       "      <th>name</th>\n",
       "      <th>top_notes</th>\n",
       "      <th>heart_notes</th>\n",
       "      <th>base_notes</th>\n",
       "    </tr>\n",
       "  </thead>\n",
       "  <tbody>\n",
       "    <tr>\n",
       "      <th>0</th>\n",
       "      <td>26120367</td>\n",
       "      <td>cK be</td>\n",
       "      <td>[96, 481, 512, 562, 604, a]</td>\n",
       "      <td>[555, a, 694]</td>\n",
       "      <td>[a, c, 808, b]</td>\n",
       "    </tr>\n",
       "    <tr>\n",
       "      <th>1</th>\n",
       "      <td>26145605</td>\n",
       "      <td>Sea Musk</td>\n",
       "      <td>[a]</td>\n",
       "      <td>[7, a, b]</td>\n",
       "      <td>[a]</td>\n",
       "    </tr>\n",
       "    <tr>\n",
       "      <th>2</th>\n",
       "      <td>26146192</td>\n",
       "      <td>Cuir Musc</td>\n",
       "      <td>[a, 765, 940]</td>\n",
       "      <td>[a, 900]</td>\n",
       "      <td>[a, a, 649]</td>\n",
       "    </tr>\n",
       "  </tbody>\n",
       "</table>\n",
       "</div>"
      ],
      "text/plain": [
       "         pk       name                    top_notes    heart_notes  \\\n",
       "0  26120367      cK be  [96, 481, 512, 562, 604, a]  [555, a, 694]   \n",
       "1  26145605   Sea Musk                          [a]      [7, a, b]   \n",
       "2  26146192  Cuir Musc                [a, 765, 940]       [a, 900]   \n",
       "\n",
       "       base_notes  \n",
       "0  [a, c, 808, b]  \n",
       "1             [a]  \n",
       "2     [a, a, 649]  "
      ]
     },
     "execution_count": 39,
     "metadata": {},
     "output_type": "execute_result"
    }
   ],
   "source": [
    "# target_type을 *_note 열들로 지정하고 위 조건에 해당하는 값을 변경\n",
    "target_type = ['top_notes', 'heart_notes', 'base_notes']\n",
    "for i in target_type:\n",
    "    convert_note(i)\n",
    "    \n",
    "df_final.head(3)"
   ]
  },
  {
   "cell_type": "code",
   "execution_count": 40,
   "metadata": {},
   "outputs": [],
   "source": [
    "# Import Counter from collections\n",
    "from collections import Counter\n",
    "\n",
    "# 데이터 프레임에 score열을 만들고 위에서 번환된 note값에 따라 점수 계산\n",
    "# 10번 카테고리 향은 1점, 6번 카테고리 향은 0.7점, 9번 카테고리 향은 0.4점\n",
    "\n",
    "# 점수 계산 함수\n",
    "def score_cal(target_type):\n",
    "    score = Counter(df_final[target_type][i])['a'] * 1 + Counter(df_final[target_type][i])['b'] * 0.7 + Counter(df_final[target_type][i])['c'] * 0.4\n",
    "    return score\n",
    "\n",
    "df_final['score'] = 0\n",
    "for i in range(len(df_final)):\n",
    "    t_score = score_cal('top_notes')\n",
    "    m_score = score_cal('heart_notes')\n",
    "    b_score = score_cal('base_notes')\n",
    "    df_final['score'][i] = t_score + m_score + b_score\n"
   ]
  },
  {
   "cell_type": "code",
   "execution_count": 42,
   "metadata": {},
   "outputs": [
    {
     "data": {
      "text/html": [
       "<div>\n",
       "<style scoped>\n",
       "    .dataframe tbody tr th:only-of-type {\n",
       "        vertical-align: middle;\n",
       "    }\n",
       "\n",
       "    .dataframe tbody tr th {\n",
       "        vertical-align: top;\n",
       "    }\n",
       "\n",
       "    .dataframe thead th {\n",
       "        text-align: right;\n",
       "    }\n",
       "</style>\n",
       "<table border=\"1\" class=\"dataframe\">\n",
       "  <thead>\n",
       "    <tr style=\"text-align: right;\">\n",
       "      <th></th>\n",
       "      <th>pk</th>\n",
       "      <th>name</th>\n",
       "      <th>top_notes</th>\n",
       "      <th>heart_notes</th>\n",
       "      <th>base_notes</th>\n",
       "      <th>score</th>\n",
       "    </tr>\n",
       "  </thead>\n",
       "  <tbody>\n",
       "    <tr>\n",
       "      <th>0</th>\n",
       "      <td>26120367</td>\n",
       "      <td>cK be</td>\n",
       "      <td>[96, 481, 512, 562, 604, a]</td>\n",
       "      <td>[555, a, 694]</td>\n",
       "      <td>[a, c, 808, b]</td>\n",
       "      <td>4.1</td>\n",
       "    </tr>\n",
       "    <tr>\n",
       "      <th>2</th>\n",
       "      <td>26146192</td>\n",
       "      <td>Cuir Musc</td>\n",
       "      <td>[a, 765, 940]</td>\n",
       "      <td>[a, 900]</td>\n",
       "      <td>[a, a, 649]</td>\n",
       "      <td>4.0</td>\n",
       "    </tr>\n",
       "    <tr>\n",
       "      <th>3</th>\n",
       "      <td>26146195</td>\n",
       "      <td>Amber Musc</td>\n",
       "      <td>[a, 785]</td>\n",
       "      <td>[a]</td>\n",
       "      <td>[a, 193, a]</td>\n",
       "      <td>4.0</td>\n",
       "    </tr>\n",
       "  </tbody>\n",
       "</table>\n",
       "</div>"
      ],
      "text/plain": [
       "         pk        name                    top_notes    heart_notes  \\\n",
       "0  26120367       cK be  [96, 481, 512, 562, 604, a]  [555, a, 694]   \n",
       "2  26146192   Cuir Musc                [a, 765, 940]       [a, 900]   \n",
       "3  26146195  Amber Musc                     [a, 785]            [a]   \n",
       "\n",
       "       base_notes  score  \n",
       "0  [a, c, 808, b]    4.1  \n",
       "2     [a, a, 649]    4.0  \n",
       "3     [a, 193, a]    4.0  "
      ]
     },
     "execution_count": 42,
     "metadata": {},
     "output_type": "execute_result"
    }
   ],
   "source": [
    "# score값에 따른 top 3\n",
    "df_final.sort_values(by = 'score', ascending = False)[0:3]"
   ]
  },
  {
   "cell_type": "code",
   "execution_count": 43,
   "metadata": {},
   "outputs": [],
   "source": [
    "# 해당 향수의 전체 노트의 수 = 'total_notes'\n",
    "df_final['total_notes'] = None\n",
    "# 해당 향수의 평균 점수\n",
    "df_final['score_avg'] = 0\n",
    "\n",
    "# 노트들의 리스트 길이를 이용하여 평균 점수 구하기\n",
    "for i in range(len(df_final)):\n",
    "    df_final['total_notes'][i] = len(df_final['top_notes'][i] + df_final['heart_notes'][i] + df_final['base_notes'][i])\n",
    "    df_final['score_avg'][i] = df_final['score'][i]/df_final['total_notes'][i]\n"
   ]
  },
  {
   "cell_type": "code",
   "execution_count": 47,
   "metadata": {},
   "outputs": [
    {
     "data": {
      "text/html": [
       "<div>\n",
       "<style scoped>\n",
       "    .dataframe tbody tr th:only-of-type {\n",
       "        vertical-align: middle;\n",
       "    }\n",
       "\n",
       "    .dataframe tbody tr th {\n",
       "        vertical-align: top;\n",
       "    }\n",
       "\n",
       "    .dataframe thead th {\n",
       "        text-align: right;\n",
       "    }\n",
       "</style>\n",
       "<table border=\"1\" class=\"dataframe\">\n",
       "  <thead>\n",
       "    <tr style=\"text-align: right;\">\n",
       "      <th></th>\n",
       "      <th>pk</th>\n",
       "      <th>name</th>\n",
       "      <th>top_notes</th>\n",
       "      <th>heart_notes</th>\n",
       "      <th>base_notes</th>\n",
       "      <th>score</th>\n",
       "      <th>total_notes</th>\n",
       "      <th>score_avg</th>\n",
       "    </tr>\n",
       "  </thead>\n",
       "  <tbody>\n",
       "    <tr>\n",
       "      <th>4</th>\n",
       "      <td>26148931</td>\n",
       "      <td>Puro</td>\n",
       "      <td>[a]</td>\n",
       "      <td>[a, 193]</td>\n",
       "      <td>[a]</td>\n",
       "      <td>3.0</td>\n",
       "      <td>4</td>\n",
       "      <td>0.750000</td>\n",
       "    </tr>\n",
       "    <tr>\n",
       "      <th>1</th>\n",
       "      <td>26145605</td>\n",
       "      <td>Sea Musk</td>\n",
       "      <td>[a]</td>\n",
       "      <td>[7, a, b]</td>\n",
       "      <td>[a]</td>\n",
       "      <td>3.7</td>\n",
       "      <td>5</td>\n",
       "      <td>0.740000</td>\n",
       "    </tr>\n",
       "    <tr>\n",
       "      <th>3</th>\n",
       "      <td>26146195</td>\n",
       "      <td>Amber Musc</td>\n",
       "      <td>[a, 785]</td>\n",
       "      <td>[a]</td>\n",
       "      <td>[a, 193, a]</td>\n",
       "      <td>4.0</td>\n",
       "      <td>6</td>\n",
       "      <td>0.666667</td>\n",
       "    </tr>\n",
       "  </tbody>\n",
       "</table>\n",
       "</div>"
      ],
      "text/plain": [
       "         pk        name top_notes heart_notes   base_notes  score total_notes  \\\n",
       "4  26148931        Puro       [a]    [a, 193]          [a]    3.0           4   \n",
       "1  26145605    Sea Musk       [a]   [7, a, b]          [a]    3.7           5   \n",
       "3  26146195  Amber Musc  [a, 785]         [a]  [a, 193, a]    4.0           6   \n",
       "\n",
       "   score_avg  \n",
       "4   0.750000  \n",
       "1   0.740000  \n",
       "3   0.666667  "
      ]
     },
     "execution_count": 47,
     "metadata": {},
     "output_type": "execute_result"
    }
   ],
   "source": [
    "# 평균 점수로 정한 top 3향수\n",
    "df_final.sort_values(by = 'score_avg', ascending = False)[0:3]"
   ]
  },
  {
   "cell_type": "code",
   "execution_count": 49,
   "metadata": {},
   "outputs": [],
   "source": [
    "df_base = pd.read_csv('../data/fill_season_catagory.csv')\n",
    "\n",
    "# 점수 계산 후 나온 상위 3개의 향수의 pk값을 이용하여 향수 최종 데이터에서 동일 pk값을 가진 향수 정보를 추출 \n",
    "result = df_final.sort_values(by = 'score_avg', ascending = False)[0:3]\n",
    "result_pk = result['pk'].reset_index(drop=True)\n",
    "\n",
    "fin = df_base[df_base['pk'] == result_pk[0]]\n",
    "for i in range(1, len(result_pk)):\n",
    "    fin = fin.append(df_base[df_base['pk'] == result_pk[i]])\n",
    "\n",
    "# 결과 데이터 프레임 csv로 저장\n",
    "fin.to_csv('../data/category10_result.csv')\n"
   ]
  },
  {
   "cell_type": "code",
   "execution_count": null,
   "metadata": {},
   "outputs": [],
   "source": []
  }
 ],
 "metadata": {
  "kernelspec": {
   "display_name": "base",
   "language": "python",
   "name": "python3"
  },
  "language_info": {
   "codemirror_mode": {
    "name": "ipython",
    "version": 3
   },
   "file_extension": ".py",
   "mimetype": "text/x-python",
   "name": "python",
   "nbconvert_exporter": "python",
   "pygments_lexer": "ipython3",
   "version": "3.10.9"
  },
  "orig_nbformat": 4
 },
 "nbformat": 4,
 "nbformat_minor": 2
}
