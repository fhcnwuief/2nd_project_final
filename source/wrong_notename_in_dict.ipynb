{
 "cells": [
  {
   "cell_type": "code",
   "execution_count": null,
   "metadata": {},
   "outputs": [],
   "source": [
    "import pandas as pd\n",
    "import json\n",
    "import pickle"
   ]
  },
  {
   "cell_type": "code",
   "execution_count": null,
   "metadata": {},
   "outputs": [],
   "source": [
    "notes_info = pd.read_csv('../data/all_note_data.csv') # rows : 973\n",
    "with open('../data/org_notes.pkl', 'rb') as f:\n",
    "    notes_dict = pickle.load(f)  # len : 973"
   ]
  },
  {
   "cell_type": "markdown",
   "metadata": {},
   "source": [
    "### notes_dict에서 틀린 name값 고치기\n",
    "- notes_info('note')와 notes_dict('name')를 살펴보다가 name이 note/kor_name과 다른 값들을 찾았다"
   ]
  },
  {
   "cell_type": "code",
   "execution_count": null,
   "metadata": {},
   "outputs": [],
   "source": [
    "note_pk = []\n",
    "wrong_name = []\n",
    "for i in range(len(notes_info)):\n",
    "    if notes_info['note'][i] == notes_dict[i]['fields']['name']:\n",
    "        note_pk.append(notes_dict[i]['pk'])\n",
    "    else:\n",
    "        note_pk.append('check')\n",
    "        wrong_name.append(i)\n",
    "\n",
    "len(wrong_name)"
   ]
  },
  {
   "cell_type": "code",
   "execution_count": null,
   "metadata": {},
   "outputs": [],
   "source": [
    "for i in wrong_name:\n",
    "    notes_dict[i]['fields']['name'] = notes_info['note'][i]\n",
    "    print(notes_dict[i]['fields']['name'])\n",
    "    print(notes_info['note'][i])"
   ]
  },
  {
   "cell_type": "markdown",
   "metadata": {},
   "source": [
    "#### ==> update dataset (wrong name in dictionary)"
   ]
  },
  {
   "cell_type": "code",
   "execution_count": null,
   "metadata": {},
   "outputs": [],
   "source": [
    "with open('../data/notes.pkl', 'wb') as pick:\n",
    "    pickle.dump(notes_dict, pick)\n",
    "\n",
    "df = pd.DataFrame.from_records(notes_dict)\n",
    "df.to_csv('../data/notes.csv', index=False) "
   ]
  },
  {
   "cell_type": "code",
   "execution_count": null,
   "metadata": {},
   "outputs": [],
   "source": [
    "with open('../data/notes.pkl', 'rb') as f:\n",
    "    list_dicts = pickle.load(f)\n",
    "    \n",
    "list_dicts[701]"
   ]
  },
  {
   "cell_type": "code",
   "execution_count": null,
   "metadata": {},
   "outputs": [],
   "source": [
    "notes_info['note_pk'] = note_pk\n",
    "notes_info.head()"
   ]
  },
  {
   "cell_type": "code",
   "execution_count": null,
   "metadata": {},
   "outputs": [],
   "source": []
  }
 ],
 "metadata": {
  "kernelspec": {
   "display_name": "base",
   "language": "python",
   "name": "python3"
  },
  "language_info": {
   "codemirror_mode": {
    "name": "ipython",
    "version": 3
   },
   "file_extension": ".py",
   "mimetype": "text/x-python",
   "name": "python",
   "nbconvert_exporter": "python",
   "pygments_lexer": "ipython3",
   "version": "3.10.9"
  },
  "orig_nbformat": 4
 },
 "nbformat": 4,
 "nbformat_minor": 2
}
