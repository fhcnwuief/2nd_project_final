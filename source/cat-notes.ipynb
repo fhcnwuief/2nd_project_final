{
 "cells": [
  {
   "cell_type": "code",
   "execution_count": 1,
   "metadata": {},
   "outputs": [],
   "source": [
    "import pandas as pd\n",
    "\n",
    "import warnings\n",
    "warnings.filterwarnings(action='ignore')"
   ]
  },
  {
   "cell_type": "markdown",
   "metadata": {},
   "source": [
    "### csv파일 읽기"
   ]
  },
  {
   "cell_type": "code",
   "execution_count": 115,
   "metadata": {},
   "outputs": [],
   "source": [
    "notes_info = pd.read_csv('../data/all_note_data.csv')\n",
    "note_idx_df = pd.read_csv('../data/concat_notes.csv')\n",
    "cat_info = pd.read_csv('../data/concat_category.csv')"
   ]
  },
  {
   "cell_type": "markdown",
   "metadata": {},
   "source": [
    "### df : 카테고리별 속하는 향을 보여주는 데이터프레임을 만드려고 한다\n",
    "* columns : category_idx, category, notes, note_idx\n",
    "* cat_info에서 category_idx와 category뽑아오기\n",
    "* notes는 note들이 담긴 리스트 - category_idx가 [1~12]인 note들\n",
    "* note_idx는 그 note들의 pk값"
   ]
  },
  {
   "cell_type": "code",
   "execution_count": 117,
   "metadata": {},
   "outputs": [
    {
     "data": {
      "text/html": [
       "<div>\n",
       "<style scoped>\n",
       "    .dataframe tbody tr th:only-of-type {\n",
       "        vertical-align: middle;\n",
       "    }\n",
       "\n",
       "    .dataframe tbody tr th {\n",
       "        vertical-align: top;\n",
       "    }\n",
       "\n",
       "    .dataframe thead th {\n",
       "        text-align: right;\n",
       "    }\n",
       "</style>\n",
       "<table border=\"1\" class=\"dataframe\">\n",
       "  <thead>\n",
       "    <tr style=\"text-align: right;\">\n",
       "      <th></th>\n",
       "      <th>category_idx</th>\n",
       "      <th>category</th>\n",
       "      <th>notes</th>\n",
       "      <th>note_idx</th>\n",
       "    </tr>\n",
       "  </thead>\n",
       "  <tbody>\n",
       "    <tr>\n",
       "      <th>0</th>\n",
       "      <td>1</td>\n",
       "      <td>citrus_smells</td>\n",
       "      <td>None</td>\n",
       "      <td>None</td>\n",
       "    </tr>\n",
       "    <tr>\n",
       "      <th>1</th>\n",
       "      <td>2</td>\n",
       "      <td>fruits_vegetables_and_nuts</td>\n",
       "      <td>None</td>\n",
       "      <td>None</td>\n",
       "    </tr>\n",
       "    <tr>\n",
       "      <th>2</th>\n",
       "      <td>3</td>\n",
       "      <td>flowers</td>\n",
       "      <td>None</td>\n",
       "      <td>None</td>\n",
       "    </tr>\n",
       "  </tbody>\n",
       "</table>\n",
       "</div>"
      ],
      "text/plain": [
       "   category_idx                    category notes note_idx\n",
       "0             1               citrus_smells  None     None\n",
       "1             2  fruits_vegetables_and_nuts  None     None\n",
       "2             3                     flowers  None     None"
      ]
     },
     "execution_count": 117,
     "metadata": {},
     "output_type": "execute_result"
    }
   ],
   "source": [
    "# concat_category 데이터프레임에서 pk, name만 가져오고 'notes와' 'note_idx'열을 만들어 데이터프레임(df)의 틀을 만든다.\n",
    "df = cat_info[['pk', 'name']]\n",
    "df.rename({'pk': 'category_idx', 'name': 'category'}, axis=1, inplace=True)\n",
    "df['notes'] = None\n",
    "df['note_idx'] = None\n",
    "\n",
    "df.head(3)"
   ]
  },
  {
   "cell_type": "markdown",
   "metadata": {},
   "source": [
    "#### all_note_data에서 note들의 pk값을 concat_notes데이터프레임에서 꺼내와서 새로운 열 (notes_idx)에 넣는다"
   ]
  },
  {
   "cell_type": "code",
   "execution_count": 119,
   "metadata": {},
   "outputs": [
    {
     "data": {
      "text/html": [
       "<div>\n",
       "<style scoped>\n",
       "    .dataframe tbody tr th:only-of-type {\n",
       "        vertical-align: middle;\n",
       "    }\n",
       "\n",
       "    .dataframe tbody tr th {\n",
       "        vertical-align: top;\n",
       "    }\n",
       "\n",
       "    .dataframe thead th {\n",
       "        text-align: right;\n",
       "    }\n",
       "</style>\n",
       "<table border=\"1\" class=\"dataframe\">\n",
       "  <thead>\n",
       "    <tr style=\"text-align: right;\">\n",
       "      <th></th>\n",
       "      <th>note</th>\n",
       "      <th>category_idx</th>\n",
       "      <th>category_name</th>\n",
       "      <th>season</th>\n",
       "      <th>notes_idx</th>\n",
       "    </tr>\n",
       "  </thead>\n",
       "  <tbody>\n",
       "    <tr>\n",
       "      <th>0</th>\n",
       "      <td>absinthe</td>\n",
       "      <td>11</td>\n",
       "      <td>beverages</td>\n",
       "      <td>[0, 1, 2, 3]</td>\n",
       "      <td>1</td>\n",
       "    </tr>\n",
       "    <tr>\n",
       "      <th>1</th>\n",
       "      <td>acacia</td>\n",
       "      <td>3</td>\n",
       "      <td>flowers</td>\n",
       "      <td>[0, 1, 2, 3]</td>\n",
       "      <td>2</td>\n",
       "    </tr>\n",
       "    <tr>\n",
       "      <th>2</th>\n",
       "      <td>acai berry</td>\n",
       "      <td>2</td>\n",
       "      <td>fruits_vegetables_and_nuts</td>\n",
       "      <td>[0, 2]</td>\n",
       "      <td>3</td>\n",
       "    </tr>\n",
       "  </tbody>\n",
       "</table>\n",
       "</div>"
      ],
      "text/plain": [
       "         note  category_idx               category_name        season  \\\n",
       "0    absinthe            11                   beverages  [0, 1, 2, 3]   \n",
       "1      acacia             3                     flowers  [0, 1, 2, 3]   \n",
       "2  acai berry             2  fruits_vegetables_and_nuts        [0, 2]   \n",
       "\n",
       "  notes_idx  \n",
       "0         1  \n",
       "1         2  \n",
       "2         3  "
      ]
     },
     "execution_count": 119,
     "metadata": {},
     "output_type": "execute_result"
    }
   ],
   "source": [
    "notes_info['notes_idx'] = None\n",
    "for i in notes_info.index:\n",
    "    ind = note_idx_df.index[note_idx_df['name'] == notes_info['note'][i]].tolist()\n",
    "    for item in ind:\n",
    "        notes_info['notes_idx'][i] = note_idx_df['pk'][item] \n",
    "notes_info.head(3)"
   ]
  },
  {
   "cell_type": "markdown",
   "metadata": {},
   "source": [
    "#### category에 해당하는 note와 그에 해당하는 pk('notes_idx)를 리스트에 저장하는 함수"
   ]
  },
  {
   "cell_type": "code",
   "execution_count": 120,
   "metadata": {},
   "outputs": [],
   "source": [
    "def note_list(cat_ind):\n",
    "    n_list = []\n",
    "    for i in notes_info.index:\n",
    "        if notes_info['category_idx'][i] == cat_ind:\n",
    "            n_list.append(notes_info['note'][i])\n",
    "    return n_list\n",
    "\n",
    "def noteidx_list(cat_ind):\n",
    "    idx_list = []\n",
    "    for i in notes_info.index:\n",
    "        if notes_info['category_idx'][i] == cat_ind:\n",
    "            idx_list.append(notes_info['notes_idx'][i])\n",
    "    return idx_list"
   ]
  },
  {
   "cell_type": "markdown",
   "metadata": {},
   "source": [
    "#### 만들어진 함수를 이용하여 1~12 카테고리에 해당하는 note들을 df의 해당 row에 추가"
   ]
  },
  {
   "cell_type": "code",
   "execution_count": 121,
   "metadata": {},
   "outputs": [
    {
     "data": {
      "text/html": [
       "<div>\n",
       "<style scoped>\n",
       "    .dataframe tbody tr th:only-of-type {\n",
       "        vertical-align: middle;\n",
       "    }\n",
       "\n",
       "    .dataframe tbody tr th {\n",
       "        vertical-align: top;\n",
       "    }\n",
       "\n",
       "    .dataframe thead th {\n",
       "        text-align: right;\n",
       "    }\n",
       "</style>\n",
       "<table border=\"1\" class=\"dataframe\">\n",
       "  <thead>\n",
       "    <tr style=\"text-align: right;\">\n",
       "      <th></th>\n",
       "      <th>category_idx</th>\n",
       "      <th>category</th>\n",
       "      <th>notes</th>\n",
       "      <th>note_idx</th>\n",
       "    </tr>\n",
       "  </thead>\n",
       "  <tbody>\n",
       "    <tr>\n",
       "      <th>0</th>\n",
       "      <td>1</td>\n",
       "      <td>citrus_smells</td>\n",
       "      <td>[bergamot, bitter orange, blood orange, calama...</td>\n",
       "      <td>[96, 101, 114, 155, 213, 226, 227, 233, 346, 3...</td>\n",
       "    </tr>\n",
       "    <tr>\n",
       "      <th>1</th>\n",
       "      <td>2</td>\n",
       "      <td>fruits_vegetables_and_nuts</td>\n",
       "      <td>[acai berry, acerola, almond, apple, apple jui...</td>\n",
       "      <td>[3, 4, 16, 45, 47, 49, 51, 56, 57, 75, 86, 90,...</td>\n",
       "    </tr>\n",
       "    <tr>\n",
       "      <th>2</th>\n",
       "      <td>3</td>\n",
       "      <td>flowers</td>\n",
       "      <td>[acacia, acerola blossom, aglaia, almond bloss...</td>\n",
       "      <td>[2, 5, 10, 17, 21, 22, 25, 40, 41, 46, 52, 64,...</td>\n",
       "    </tr>\n",
       "    <tr>\n",
       "      <th>3</th>\n",
       "      <td>4</td>\n",
       "      <td>white_flowers</td>\n",
       "      <td>[arum lily, black locust, boronia, carissa, da...</td>\n",
       "      <td>[61, 106, 122, 179, 302, 357, 367, 389, 437, 4...</td>\n",
       "    </tr>\n",
       "    <tr>\n",
       "      <th>4</th>\n",
       "      <td>5</td>\n",
       "      <td>greens_herbs_and_fougeres</td>\n",
       "      <td>[agave, algae, aloe vera, ammophila (beach gra...</td>\n",
       "      <td>[8, 14, 19, 37, 42, 48, 59, 60, 65, 69, 70, 77...</td>\n",
       "    </tr>\n",
       "  </tbody>\n",
       "</table>\n",
       "</div>"
      ],
      "text/plain": [
       "   category_idx                    category  \\\n",
       "0             1               citrus_smells   \n",
       "1             2  fruits_vegetables_and_nuts   \n",
       "2             3                     flowers   \n",
       "3             4               white_flowers   \n",
       "4             5   greens_herbs_and_fougeres   \n",
       "\n",
       "                                               notes  \\\n",
       "0  [bergamot, bitter orange, blood orange, calama...   \n",
       "1  [acai berry, acerola, almond, apple, apple jui...   \n",
       "2  [acacia, acerola blossom, aglaia, almond bloss...   \n",
       "3  [arum lily, black locust, boronia, carissa, da...   \n",
       "4  [agave, algae, aloe vera, ammophila (beach gra...   \n",
       "\n",
       "                                            note_idx  \n",
       "0  [96, 101, 114, 155, 213, 226, 227, 233, 346, 3...  \n",
       "1  [3, 4, 16, 45, 47, 49, 51, 56, 57, 75, 86, 90,...  \n",
       "2  [2, 5, 10, 17, 21, 22, 25, 40, 41, 46, 52, 64,...  \n",
       "3  [61, 106, 122, 179, 302, 357, 367, 389, 437, 4...  \n",
       "4  [8, 14, 19, 37, 42, 48, 59, 60, 65, 69, 70, 77...  "
      ]
     },
     "execution_count": 121,
     "metadata": {},
     "output_type": "execute_result"
    }
   ],
   "source": [
    "for i in range(1,13):\n",
    "    n_list = note_list(i)\n",
    "    df['notes'][i-1] = n_list\n",
    "    idx_list = noteidx_list(i)\n",
    "    df['note_idx'][i-1] = idx_list\n",
    "df.head()"
   ]
  },
  {
   "cell_type": "markdown",
   "metadata": {},
   "source": [
    "### 만들어진 df를 csv파일로 저장 후 잘 저장되었는지 읽어와서 확인"
   ]
  },
  {
   "cell_type": "code",
   "execution_count": 122,
   "metadata": {},
   "outputs": [
    {
     "data": {
      "text/html": [
       "<div>\n",
       "<style scoped>\n",
       "    .dataframe tbody tr th:only-of-type {\n",
       "        vertical-align: middle;\n",
       "    }\n",
       "\n",
       "    .dataframe tbody tr th {\n",
       "        vertical-align: top;\n",
       "    }\n",
       "\n",
       "    .dataframe thead th {\n",
       "        text-align: right;\n",
       "    }\n",
       "</style>\n",
       "<table border=\"1\" class=\"dataframe\">\n",
       "  <thead>\n",
       "    <tr style=\"text-align: right;\">\n",
       "      <th></th>\n",
       "      <th>category_idx</th>\n",
       "      <th>category</th>\n",
       "      <th>notes</th>\n",
       "      <th>note_idx</th>\n",
       "    </tr>\n",
       "  </thead>\n",
       "  <tbody>\n",
       "    <tr>\n",
       "      <th>0</th>\n",
       "      <td>1</td>\n",
       "      <td>citrus_smells</td>\n",
       "      <td>['bergamot', 'bitter orange', 'blood orange', ...</td>\n",
       "      <td>[96, 101, 114, 155, 213, 226, 227, 233, 346, 3...</td>\n",
       "    </tr>\n",
       "    <tr>\n",
       "      <th>1</th>\n",
       "      <td>2</td>\n",
       "      <td>fruits_vegetables_and_nuts</td>\n",
       "      <td>['acai berry', 'acerola', 'almond', 'apple', '...</td>\n",
       "      <td>[3, 4, 16, 45, 47, 49, 51, 56, 57, 75, 86, 90,...</td>\n",
       "    </tr>\n",
       "    <tr>\n",
       "      <th>2</th>\n",
       "      <td>3</td>\n",
       "      <td>flowers</td>\n",
       "      <td>['acacia', 'acerola blossom', 'aglaia', 'almon...</td>\n",
       "      <td>[2, 5, 10, 17, 21, 22, 25, 40, 41, 46, 52, 64,...</td>\n",
       "    </tr>\n",
       "  </tbody>\n",
       "</table>\n",
       "</div>"
      ],
      "text/plain": [
       "   category_idx                    category  \\\n",
       "0             1               citrus_smells   \n",
       "1             2  fruits_vegetables_and_nuts   \n",
       "2             3                     flowers   \n",
       "\n",
       "                                               notes  \\\n",
       "0  ['bergamot', 'bitter orange', 'blood orange', ...   \n",
       "1  ['acai berry', 'acerola', 'almond', 'apple', '...   \n",
       "2  ['acacia', 'acerola blossom', 'aglaia', 'almon...   \n",
       "\n",
       "                                            note_idx  \n",
       "0  [96, 101, 114, 155, 213, 226, 227, 233, 346, 3...  \n",
       "1  [3, 4, 16, 45, 47, 49, 51, 56, 57, 75, 86, 90,...  \n",
       "2  [2, 5, 10, 17, 21, 22, 25, 40, 41, 46, 52, 64,...  "
      ]
     },
     "execution_count": 122,
     "metadata": {},
     "output_type": "execute_result"
    }
   ],
   "source": [
    "df.to_csv('../data/cate_note.csv', index = False)\n",
    "\n",
    "new = pd.read_csv('../data/cate_note.csv')\n",
    "new.head(3)"
   ]
  },
  {
   "cell_type": "code",
   "execution_count": null,
   "metadata": {},
   "outputs": [],
   "source": []
  }
 ],
 "metadata": {
  "kernelspec": {
   "display_name": "base",
   "language": "python",
   "name": "python3"
  },
  "language_info": {
   "codemirror_mode": {
    "name": "ipython",
    "version": 3
   },
   "file_extension": ".py",
   "mimetype": "text/x-python",
   "name": "python",
   "nbconvert_exporter": "python",
   "pygments_lexer": "ipython3",
   "version": "3.10.9"
  },
  "orig_nbformat": 4
 },
 "nbformat": 4,
 "nbformat_minor": 2
}
