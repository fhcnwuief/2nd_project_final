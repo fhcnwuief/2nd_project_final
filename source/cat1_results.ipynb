{
 "cells": [
  {
   "cell_type": "markdown",
   "metadata": {},
   "source": [
    "## category 1 : orange (top)"
   ]
  },
  {
   "cell_type": "markdown",
   "metadata": {},
   "source": [
    "#### to-do\n",
    "1. 향수 정보 열기\n",
    "2. <카테고리  3> : top_notes에 'rose'를 포함하는 향수만 필터링\n",
    "3. top_notes 리스트에의 향들 : 카테고리 3에 포함되는 향 갯수, 다음 가까운 카테고리에 포함되는 향 갯수, 그 다음...\n",
    "4. 각 갯수 * 해당 가중치(1, 0.7, 0.4) ==> 'score'\n",
    "5. score에 따라서 정렬 후 top 3 향수 추출\n",
    "6. 저장\n"
   ]
  },
  {
   "cell_type": "code",
   "execution_count": 1,
   "metadata": {},
   "outputs": [],
   "source": [
    "import pandas as pd\n",
    "from ast import literal_eval\n",
    "\n",
    "import warnings\n",
    "warnings.filterwarnings(\"ignore\")"
   ]
  },
  {
   "cell_type": "markdown",
   "metadata": {},
   "source": [
    "### 데이터 불러오기"
   ]
  },
  {
   "cell_type": "code",
   "execution_count": 2,
   "metadata": {},
   "outputs": [
    {
     "data": {
      "text/html": [
       "<div>\n",
       "<style scoped>\n",
       "    .dataframe tbody tr th:only-of-type {\n",
       "        vertical-align: middle;\n",
       "    }\n",
       "\n",
       "    .dataframe tbody tr th {\n",
       "        vertical-align: top;\n",
       "    }\n",
       "\n",
       "    .dataframe thead th {\n",
       "        text-align: right;\n",
       "    }\n",
       "</style>\n",
       "<table border=\"1\" class=\"dataframe\">\n",
       "  <thead>\n",
       "    <tr style=\"text-align: right;\">\n",
       "      <th></th>\n",
       "      <th>pk</th>\n",
       "      <th>name</th>\n",
       "    </tr>\n",
       "  </thead>\n",
       "  <tbody>\n",
       "    <tr>\n",
       "      <th>659</th>\n",
       "      <td>660</td>\n",
       "      <td>orange</td>\n",
       "    </tr>\n",
       "  </tbody>\n",
       "</table>\n",
       "</div>"
      ],
      "text/plain": [
       "      pk    name\n",
       "659  660  orange"
      ]
     },
     "execution_count": 2,
     "metadata": {},
     "output_type": "execute_result"
    }
   ],
   "source": [
    "# 향수 데이터를 필요한 칼럼만 남겨 perfume_df에 불러오기\n",
    "perfume_df = pd.read_csv('../data/1st treatment_perfume.csv', index_col = 0)\n",
    "perfume_df = perfume_df[['pk', 'name', 'top_notes', 'heart_notes', 'base_notes']]\n",
    "\n",
    "# perfume_df의 note들 정보가 리스트가 아닌 string으로 저장되어 있으므로 리스트로 변환\n",
    "note_types = ['top_notes', 'heart_notes', 'base_notes']\n",
    "for n_type in note_types:\n",
    "    perfume_df[n_type] = perfume_df[n_type].apply(literal_eval)\n",
    "\n",
    "# 각 카테고리별 향들의 정보가 들어있는 cate_note.csv불러오기\n",
    "cat_notes = pd.read_csv('../data/cate_note.csv', index_col = 0)\n",
    "\n",
    "# note에 대한 정보 (이름과  pk)을 가진 데이터 프레임\n",
    "note1 = pd.read_csv('../data/concat_notes.csv')\n",
    "note1 = note1[['pk', 'name']]\n",
    "note1[note1['name'] == 'orange'] # orange pk값 확인"
   ]
  },
  {
   "cell_type": "code",
   "execution_count": 10,
   "metadata": {},
   "outputs": [
    {
     "data": {
      "text/plain": [
       "660"
      ]
     },
     "execution_count": 10,
     "metadata": {},
     "output_type": "execute_result"
    }
   ],
   "source": [
    "a = note1[note1['name'] == 'orange']['pk']\n",
    "a.values[0]"
   ]
  },
  {
   "cell_type": "markdown",
   "metadata": {},
   "source": [
    "***"
   ]
  },
  {
   "cell_type": "markdown",
   "metadata": {},
   "source": [
    "### 타겟 향이 top에 포함되는 향수 추출"
   ]
  },
  {
   "cell_type": "markdown",
   "metadata": {},
   "source": [
    "#### 1. top 필터링"
   ]
  },
  {
   "cell_type": "code",
   "execution_count": 3,
   "metadata": {},
   "outputs": [
    {
     "name": "stdout",
     "output_type": "stream",
     "text": [
      "top_notes 필터 후 :  1048\n",
      "필터링된 데이터 프레임 크기 :  1048\n"
     ]
    }
   ],
   "source": [
    "# top_note에 타겟 향 (660)을 포함하는 향수 pk값 리스트로 반환\n",
    "top_660 = []\n",
    "\n",
    "for i in range(len(perfume_df)):\n",
    "    for j in range(len(perfume_df['top_notes'][i])):\n",
    "        if perfume_df['top_notes'][i][j] == 660:\n",
    "            top_660.append(perfume_df['pk'][i])\n",
    "print('top_notes 필터 후 : ', len(top_660))\n",
    "\n",
    "# 반환된 리스트 값을 pk로 가지는 향수 정보를 보여주는 데이터 프레임\n",
    "test = []\n",
    "for i in top_660:\n",
    "    test.append(perfume_df[perfume_df['pk'] == i])\n",
    "\n",
    "df = test[0]\n",
    "for i in range(1,len(test)):\n",
    "    df = df.append(test[i])\n",
    "df_final =df.reset_index(drop = True)\n",
    "print('필터링된 데이터 프레임 크기 : ',len(df))"
   ]
  },
  {
   "cell_type": "markdown",
   "metadata": {},
   "source": [
    "***"
   ]
  },
  {
   "cell_type": "code",
   "execution_count": 46,
   "metadata": {},
   "outputs": [
    {
     "data": {
      "text/html": [
       "<div>\n",
       "<style scoped>\n",
       "    .dataframe tbody tr th:only-of-type {\n",
       "        vertical-align: middle;\n",
       "    }\n",
       "\n",
       "    .dataframe tbody tr th {\n",
       "        vertical-align: top;\n",
       "    }\n",
       "\n",
       "    .dataframe thead th {\n",
       "        text-align: right;\n",
       "    }\n",
       "</style>\n",
       "<table border=\"1\" class=\"dataframe\">\n",
       "  <thead>\n",
       "    <tr style=\"text-align: right;\">\n",
       "      <th></th>\n",
       "      <th>pk</th>\n",
       "      <th>name</th>\n",
       "      <th>top_notes</th>\n",
       "      <th>heart_notes</th>\n",
       "      <th>base_notes</th>\n",
       "    </tr>\n",
       "  </thead>\n",
       "  <tbody>\n",
       "    <tr>\n",
       "      <th>0</th>\n",
       "      <td>26120008</td>\n",
       "      <td>Citron Citron</td>\n",
       "      <td>[515, 530, 660]</td>\n",
       "      <td>[82, 604]</td>\n",
       "      <td>[178, 193, 649]</td>\n",
       "    </tr>\n",
       "  </tbody>\n",
       "</table>\n",
       "</div>"
      ],
      "text/plain": [
       "         pk           name        top_notes heart_notes       base_notes\n",
       "0  26120008  Citron Citron  [515, 530, 660]   [82, 604]  [178, 193, 649]"
      ]
     },
     "execution_count": 46,
     "metadata": {},
     "output_type": "execute_result"
    }
   ],
   "source": [
    "final = df_final[df_final['pk'] == 26120008]\n",
    "final"
   ]
  },
  {
   "cell_type": "code",
   "execution_count": 4,
   "metadata": {},
   "outputs": [
    {
     "data": {
      "text/plain": [
       "775"
      ]
     },
     "execution_count": 4,
     "metadata": {},
     "output_type": "execute_result"
    }
   ],
   "source": [
    "filter_pk = []\n",
    "for i in range(len(df_final)):\n",
    "    if len(df_final['heart_notes'][i]) != 0 or len(df_final['base_notes'][i]) != 0:\n",
    "        filter_pk.append(df_final['pk'][i])\n",
    "len(filter_pk)"
   ]
  },
  {
   "cell_type": "code",
   "execution_count": 5,
   "metadata": {},
   "outputs": [
    {
     "data": {
      "text/html": [
       "<div>\n",
       "<style scoped>\n",
       "    .dataframe tbody tr th:only-of-type {\n",
       "        vertical-align: middle;\n",
       "    }\n",
       "\n",
       "    .dataframe tbody tr th {\n",
       "        vertical-align: top;\n",
       "    }\n",
       "\n",
       "    .dataframe thead th {\n",
       "        text-align: right;\n",
       "    }\n",
       "</style>\n",
       "<table border=\"1\" class=\"dataframe\">\n",
       "  <thead>\n",
       "    <tr style=\"text-align: right;\">\n",
       "      <th></th>\n",
       "      <th>pk</th>\n",
       "      <th>name</th>\n",
       "      <th>top_notes</th>\n",
       "      <th>heart_notes</th>\n",
       "      <th>base_notes</th>\n",
       "    </tr>\n",
       "  </thead>\n",
       "  <tbody>\n",
       "    <tr>\n",
       "      <th>0</th>\n",
       "      <td>26120008</td>\n",
       "      <td>Citron Citron</td>\n",
       "      <td>[515, 530, 660]</td>\n",
       "      <td>[82, 604]</td>\n",
       "      <td>[178, 193, 649]</td>\n",
       "    </tr>\n",
       "    <tr>\n",
       "      <th>1</th>\n",
       "      <td>26120030</td>\n",
       "      <td>4711 Echt Kölnisch Wasser</td>\n",
       "      <td>[96, 515, 639, 660, 715]</td>\n",
       "      <td>[785, 793]</td>\n",
       "      <td>[624, 959]</td>\n",
       "    </tr>\n",
       "    <tr>\n",
       "      <th>2</th>\n",
       "      <td>26120166</td>\n",
       "      <td>Barbier des Isles</td>\n",
       "      <td>[96, 515, 660]</td>\n",
       "      <td>[178, 237, 472, 473]</td>\n",
       "      <td>[624, 627, 692, 785, 924]</td>\n",
       "    </tr>\n",
       "    <tr>\n",
       "      <th>3</th>\n",
       "      <td>26120202</td>\n",
       "      <td>Black Label</td>\n",
       "      <td>[96, 515, 519, 660]</td>\n",
       "      <td>[229, 372, 512, 785]</td>\n",
       "      <td>[649, 692, 808, 924]</td>\n",
       "    </tr>\n",
       "    <tr>\n",
       "      <th>4</th>\n",
       "      <td>26120245</td>\n",
       "      <td>Boucheron pour Homme</td>\n",
       "      <td>[82, 96, 512, 515, 519, 562, 660]</td>\n",
       "      <td>[180, 461, 473, 529, 785, 966]</td>\n",
       "      <td>[26, 472, 624, 649, 808, 908, 924]</td>\n",
       "    </tr>\n",
       "  </tbody>\n",
       "</table>\n",
       "</div>"
      ],
      "text/plain": [
       "         pk                       name                          top_notes  \\\n",
       "0  26120008              Citron Citron                    [515, 530, 660]   \n",
       "1  26120030  4711 Echt Kölnisch Wasser           [96, 515, 639, 660, 715]   \n",
       "2  26120166          Barbier des Isles                     [96, 515, 660]   \n",
       "3  26120202                Black Label                [96, 515, 519, 660]   \n",
       "4  26120245       Boucheron pour Homme  [82, 96, 512, 515, 519, 562, 660]   \n",
       "\n",
       "                      heart_notes                          base_notes  \n",
       "0                       [82, 604]                     [178, 193, 649]  \n",
       "1                      [785, 793]                          [624, 959]  \n",
       "2            [178, 237, 472, 473]           [624, 627, 692, 785, 924]  \n",
       "3            [229, 372, 512, 785]                [649, 692, 808, 924]  \n",
       "4  [180, 461, 473, 529, 785, 966]  [26, 472, 624, 649, 808, 908, 924]  "
      ]
     },
     "execution_count": 5,
     "metadata": {},
     "output_type": "execute_result"
    }
   ],
   "source": [
    "filtered = df_final[df_final['pk'] == filter_pk[0]]\n",
    "for i in range(1, len(filter_pk)):\n",
    "    filtered = filtered.append(df_final[df_final['pk'] == filter_pk[i]])\n",
    "filtered.head()"
   ]
  },
  {
   "cell_type": "markdown",
   "metadata": {},
   "source": [
    "#### 필터링이 된 df(df_final)에서 점수 계산 후 탑3개\n",
    "* cat1 = 1, cat11 = 0.7, cat8 = 0.3 점"
   ]
  },
  {
   "cell_type": "code",
   "execution_count": 19,
   "metadata": {},
   "outputs": [
    {
     "data": {
      "text/plain": [
       "26120315"
      ]
     },
     "execution_count": 19,
     "metadata": {},
     "output_type": "execute_result"
    }
   ],
   "source": [
    "df_final = filtered.reset_index(drop = True)\n",
    "df_final['pk'][5]"
   ]
  },
  {
   "cell_type": "code",
   "execution_count": 6,
   "metadata": {},
   "outputs": [],
   "source": [
    "cat1 = cat_notes['note_idx'].apply(literal_eval)[1] # 1번 카테고리에 해당하는 note들의 pk값 리스트\n",
    "cat11 = cat_notes['note_idx'].apply(literal_eval)[11] # 11번 카테고리에 해당하는 note들의 pk값 리스트\n",
    "cat8 = cat_notes['note_idx'].apply(literal_eval)[8] # 8번 카테고리에 해당하는 note들의 pk값 리스트"
   ]
  },
  {
   "cell_type": "code",
   "execution_count": 20,
   "metadata": {},
   "outputs": [],
   "source": [
    "# 타겟 카테고리에 해당하는 향을 카테고리에 따라 a 또는 b 또는 c로 변경하는 함수\n",
    "def convert_note(target_type):\n",
    "    for i in range(len(df_final)):\n",
    "        for j in range(len(df_final[target_type][i])):\n",
    "            if df_final[target_type][i][j] in cat1:\n",
    "                df_final[target_type][i][j] = 'a'\n",
    "            elif df_final[target_type][i][j] in cat11:\n",
    "                df_final[target_type][i][j] = 'b'\n",
    "            elif df_final[target_type][i][j] in cat8:\n",
    "                df_final[target_type][i][j] = 'c'\n",
    "            else:\n",
    "                pass"
   ]
  },
  {
   "cell_type": "code",
   "execution_count": 22,
   "metadata": {},
   "outputs": [
    {
     "data": {
      "text/html": [
       "<div>\n",
       "<style scoped>\n",
       "    .dataframe tbody tr th:only-of-type {\n",
       "        vertical-align: middle;\n",
       "    }\n",
       "\n",
       "    .dataframe tbody tr th {\n",
       "        vertical-align: top;\n",
       "    }\n",
       "\n",
       "    .dataframe thead th {\n",
       "        text-align: right;\n",
       "    }\n",
       "</style>\n",
       "<table border=\"1\" class=\"dataframe\">\n",
       "  <thead>\n",
       "    <tr style=\"text-align: right;\">\n",
       "      <th></th>\n",
       "      <th>pk</th>\n",
       "      <th>name</th>\n",
       "      <th>top_notes</th>\n",
       "      <th>heart_notes</th>\n",
       "      <th>base_notes</th>\n",
       "    </tr>\n",
       "  </thead>\n",
       "  <tbody>\n",
       "    <tr>\n",
       "      <th>0</th>\n",
       "      <td>26120008</td>\n",
       "      <td>Citron Citron</td>\n",
       "      <td>[a, a, a]</td>\n",
       "      <td>[82, 604]</td>\n",
       "      <td>[178, c, c]</td>\n",
       "    </tr>\n",
       "    <tr>\n",
       "      <th>1</th>\n",
       "      <td>26120030</td>\n",
       "      <td>4711 Echt Kölnisch Wasser</td>\n",
       "      <td>[a, a, a, a, a]</td>\n",
       "      <td>[785, 793]</td>\n",
       "      <td>[624, c]</td>\n",
       "    </tr>\n",
       "    <tr>\n",
       "      <th>2</th>\n",
       "      <td>26120166</td>\n",
       "      <td>Barbier des Isles</td>\n",
       "      <td>[a, a, a]</td>\n",
       "      <td>[178, 237, 472, 473]</td>\n",
       "      <td>[624, 627, c, 785, c]</td>\n",
       "    </tr>\n",
       "  </tbody>\n",
       "</table>\n",
       "</div>"
      ],
      "text/plain": [
       "         pk                       name        top_notes           heart_notes  \\\n",
       "0  26120008              Citron Citron        [a, a, a]             [82, 604]   \n",
       "1  26120030  4711 Echt Kölnisch Wasser  [a, a, a, a, a]            [785, 793]   \n",
       "2  26120166          Barbier des Isles        [a, a, a]  [178, 237, 472, 473]   \n",
       "\n",
       "              base_notes  \n",
       "0            [178, c, c]  \n",
       "1               [624, c]  \n",
       "2  [624, 627, c, 785, c]  "
      ]
     },
     "execution_count": 22,
     "metadata": {},
     "output_type": "execute_result"
    }
   ],
   "source": [
    "# target_type을 *_note 열들로 지정하고 위 조건에 해당하는 값을 변경\n",
    "target_type = ['top_notes', 'heart_notes', 'base_notes']\n",
    "for i in target_type:\n",
    "    convert_note(i)\n",
    "    \n",
    "df_final.head(3)"
   ]
  },
  {
   "cell_type": "code",
   "execution_count": 23,
   "metadata": {},
   "outputs": [],
   "source": [
    "# Import Counter from collections\n",
    "from collections import Counter\n",
    "\n",
    "# 데이터 프레임에 score열을 만들고 위에서 번환된 note값에 따라 점수 계산\n",
    "# 10번 카테고리 향은 1점, 6번 카테고리 향은 0.7점, 9번 카테고리 향은 0.4점\n",
    "\n",
    "# 점수 계산 함수\n",
    "def score_cal(target_type):\n",
    "    score = Counter(df_final[target_type][i])['a'] * 1 + Counter(df_final[target_type][i])['b'] * 0.7 + Counter(df_final[target_type][i])['c'] * 0.4\n",
    "    return score\n",
    "\n",
    "df_final['score'] = 0\n",
    "for i in range(len(df_final)):\n",
    "    t_score = score_cal('top_notes')\n",
    "    m_score = score_cal('heart_notes')\n",
    "    b_score = score_cal('base_notes')\n",
    "    df_final['score'][i] = t_score + m_score + b_score\n"
   ]
  },
  {
   "cell_type": "code",
   "execution_count": 24,
   "metadata": {},
   "outputs": [
    {
     "data": {
      "text/html": [
       "<div>\n",
       "<style scoped>\n",
       "    .dataframe tbody tr th:only-of-type {\n",
       "        vertical-align: middle;\n",
       "    }\n",
       "\n",
       "    .dataframe tbody tr th {\n",
       "        vertical-align: top;\n",
       "    }\n",
       "\n",
       "    .dataframe thead th {\n",
       "        text-align: right;\n",
       "    }\n",
       "</style>\n",
       "<table border=\"1\" class=\"dataframe\">\n",
       "  <thead>\n",
       "    <tr style=\"text-align: right;\">\n",
       "      <th></th>\n",
       "      <th>pk</th>\n",
       "      <th>name</th>\n",
       "      <th>top_notes</th>\n",
       "      <th>heart_notes</th>\n",
       "      <th>base_notes</th>\n",
       "      <th>score</th>\n",
       "    </tr>\n",
       "  </thead>\n",
       "  <tbody>\n",
       "    <tr>\n",
       "      <th>424</th>\n",
       "      <td>26143106</td>\n",
       "      <td>Grace</td>\n",
       "      <td>[a, a, a, a, a, a, a]</td>\n",
       "      <td>[178, 229, 473, 512, a, 646, 708, 927]</td>\n",
       "      <td>[c, b, 920]</td>\n",
       "      <td>9.1</td>\n",
       "    </tr>\n",
       "    <tr>\n",
       "      <th>327</th>\n",
       "      <td>26137943</td>\n",
       "      <td>Orange Spice</td>\n",
       "      <td>[a, a, a, a, a]</td>\n",
       "      <td>[224, 259, a, 661, a, 725]</td>\n",
       "      <td>[28, 191, 652, c, b, c]</td>\n",
       "      <td>8.5</td>\n",
       "    </tr>\n",
       "    <tr>\n",
       "      <th>723</th>\n",
       "      <td>26157731</td>\n",
       "      <td>Yuzu (Japanese citrus fruit)</td>\n",
       "      <td>[a, a, a, 896]</td>\n",
       "      <td>[a, a, a]</td>\n",
       "      <td>[a, 785]</td>\n",
       "      <td>7.0</td>\n",
       "    </tr>\n",
       "  </tbody>\n",
       "</table>\n",
       "</div>"
      ],
      "text/plain": [
       "           pk                          name              top_notes  \\\n",
       "424  26143106                         Grace  [a, a, a, a, a, a, a]   \n",
       "327  26137943                  Orange Spice        [a, a, a, a, a]   \n",
       "723  26157731  Yuzu (Japanese citrus fruit)         [a, a, a, 896]   \n",
       "\n",
       "                                heart_notes               base_notes  score  \n",
       "424  [178, 229, 473, 512, a, 646, 708, 927]              [c, b, 920]    9.1  \n",
       "327              [224, 259, a, 661, a, 725]  [28, 191, 652, c, b, c]    8.5  \n",
       "723                               [a, a, a]                 [a, 785]    7.0  "
      ]
     },
     "execution_count": 24,
     "metadata": {},
     "output_type": "execute_result"
    }
   ],
   "source": [
    "# score값에 따른 top 3\n",
    "df_final.sort_values(by = 'score', ascending = False)[0:3]"
   ]
  },
  {
   "cell_type": "code",
   "execution_count": 25,
   "metadata": {},
   "outputs": [],
   "source": [
    "# 해당 향수의 전체 노트의 수 = 'total_notes'\n",
    "df_final['total_notes'] = None\n",
    "# 해당 향수의 평균 점수\n",
    "df_final['score_avg'] = 0\n",
    "\n",
    "# 노트들의 리스트 길이를 이용하여 평균 점수 구하기\n",
    "for i in range(len(df_final)):\n",
    "    df_final['total_notes'][i] = len(df_final['top_notes'][i] + df_final['heart_notes'][i] + df_final['base_notes'][i])\n",
    "    df_final['score_avg'][i] = df_final['score'][i]/df_final['total_notes'][i]\n"
   ]
  },
  {
   "cell_type": "code",
   "execution_count": 26,
   "metadata": {},
   "outputs": [
    {
     "data": {
      "text/html": [
       "<div>\n",
       "<style scoped>\n",
       "    .dataframe tbody tr th:only-of-type {\n",
       "        vertical-align: middle;\n",
       "    }\n",
       "\n",
       "    .dataframe tbody tr th {\n",
       "        vertical-align: top;\n",
       "    }\n",
       "\n",
       "    .dataframe thead th {\n",
       "        text-align: right;\n",
       "    }\n",
       "</style>\n",
       "<table border=\"1\" class=\"dataframe\">\n",
       "  <thead>\n",
       "    <tr style=\"text-align: right;\">\n",
       "      <th></th>\n",
       "      <th>pk</th>\n",
       "      <th>name</th>\n",
       "      <th>top_notes</th>\n",
       "      <th>heart_notes</th>\n",
       "      <th>base_notes</th>\n",
       "      <th>score</th>\n",
       "      <th>total_notes</th>\n",
       "      <th>score_avg</th>\n",
       "    </tr>\n",
       "  </thead>\n",
       "  <tbody>\n",
       "    <tr>\n",
       "      <th>246</th>\n",
       "      <td>26134666</td>\n",
       "      <td>Eau Monumentale</td>\n",
       "      <td>[a, a, a]</td>\n",
       "      <td>[a]</td>\n",
       "      <td>[c]</td>\n",
       "      <td>4.4</td>\n",
       "      <td>5</td>\n",
       "      <td>0.880000</td>\n",
       "    </tr>\n",
       "    <tr>\n",
       "      <th>157</th>\n",
       "      <td>26129750</td>\n",
       "      <td>Refreshing</td>\n",
       "      <td>[a, a, a, a]</td>\n",
       "      <td>[a]</td>\n",
       "      <td>[624]</td>\n",
       "      <td>5.0</td>\n",
       "      <td>6</td>\n",
       "      <td>0.833333</td>\n",
       "    </tr>\n",
       "    <tr>\n",
       "      <th>95</th>\n",
       "      <td>26125004</td>\n",
       "      <td>Acqua di Genova Colonia</td>\n",
       "      <td>[a, a, a]</td>\n",
       "      <td>[a, 785]</td>\n",
       "      <td>[]</td>\n",
       "      <td>4.0</td>\n",
       "      <td>5</td>\n",
       "      <td>0.800000</td>\n",
       "    </tr>\n",
       "  </tbody>\n",
       "</table>\n",
       "</div>"
      ],
      "text/plain": [
       "           pk                     name     top_notes heart_notes base_notes  \\\n",
       "246  26134666          Eau Monumentale     [a, a, a]         [a]        [c]   \n",
       "157  26129750               Refreshing  [a, a, a, a]         [a]      [624]   \n",
       "95   26125004  Acqua di Genova Colonia     [a, a, a]    [a, 785]         []   \n",
       "\n",
       "     score total_notes  score_avg  \n",
       "246    4.4           5   0.880000  \n",
       "157    5.0           6   0.833333  \n",
       "95     4.0           5   0.800000  "
      ]
     },
     "execution_count": 26,
     "metadata": {},
     "output_type": "execute_result"
    }
   ],
   "source": [
    "# 평균 점수로 정한 top 3향수\n",
    "df_final.sort_values(by = 'score_avg', ascending = False)[0:3]"
   ]
  },
  {
   "cell_type": "code",
   "execution_count": 36,
   "metadata": {},
   "outputs": [],
   "source": [
    "df_base = pd.read_csv('../data/fill_season_catagory.csv')\n",
    "\n",
    "# 점수 계산 후 나온 상위 3개의 향수의 pk값을 이용하여 향수 최종 데이터에서 동일 pk값을 가진 향수 정보를 추출 \n",
    "result = df_final.sort_values(by = 'score', ascending = False)[0:3]\n",
    "result_pk = result['pk'].reset_index(drop=True)\n",
    "\n",
    "fin = df_base[df_base['pk'] == result_pk[0]]\n",
    "for i in range(1, len(result_pk)):\n",
    "    fin = fin.append(df_base[df_base['pk'] == result_pk[i]])\n",
    "    \n",
    "# 결과 데이터 프레임 csv로 저장\n",
    "fin.to_csv('../data/category1_result.csv')"
   ]
  },
  {
   "cell_type": "code",
   "execution_count": null,
   "metadata": {},
   "outputs": [],
   "source": []
  }
 ],
 "metadata": {
  "kernelspec": {
   "display_name": "base",
   "language": "python",
   "name": "python3"
  },
  "language_info": {
   "codemirror_mode": {
    "name": "ipython",
    "version": 3
   },
   "file_extension": ".py",
   "mimetype": "text/x-python",
   "name": "python",
   "nbconvert_exporter": "python",
   "pygments_lexer": "ipython3",
   "version": "3.10.9"
  },
  "orig_nbformat": 4
 },
 "nbformat": 4,
 "nbformat_minor": 2
}
