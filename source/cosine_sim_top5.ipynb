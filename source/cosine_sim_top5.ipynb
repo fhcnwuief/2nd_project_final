{
 "cells": [
  {
   "cell_type": "markdown",
   "metadata": {},
   "source": [
    "### 각 카테고리별 top 5"
   ]
  },
  {
   "cell_type": "code",
   "execution_count": null,
   "metadata": {},
   "outputs": [],
   "source": [
    "import pandas as pd"
   ]
  },
  {
   "cell_type": "code",
   "execution_count": null,
   "metadata": {},
   "outputs": [],
   "source": [
    "df = pd.read_csv('../data/cosine_sim.csv', index_col = 0)\n",
    "abs_df = df.abs()\n",
    "\n",
    "col_n = ['1', '2', '3', '4', '5']\n",
    "index_n = abs_df.index.to_list()\n",
    "top5 = pd.DataFrame(columns = col_n, index = index_n)\n",
    "top5 = top5.fillna(0)\n",
    "\n",
    "for i in range(len(top5)):\n",
    "    top = abs_df[index_n[i]].nlargest(n=5)\n",
    "    top5.iloc[i,:] = top.index\n",
    "top5"
   ]
  },
  {
   "cell_type": "code",
   "execution_count": null,
   "metadata": {},
   "outputs": [],
   "source": [
    "top5.to_csv('../data/top5_coscat.csv')\n",
    "df = pd.read_csv('../data/top5_coscat.csv', index_col = 0)\n",
    "df"
   ]
  }
 ],
 "metadata": {
  "language_info": {
   "name": "python"
  },
  "orig_nbformat": 4
 },
 "nbformat": 4,
 "nbformat_minor": 2
}
